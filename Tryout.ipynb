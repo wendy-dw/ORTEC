{
 "cells": [
  {
   "cell_type": "code",
   "execution_count": null,
   "id": "c07e947b",
   "metadata": {},
   "outputs": [
    {
     "name": "stdout",
     "output_type": "stream",
     "text": [
      "Requirement already satisfied: xgboost in c:\\users\\kian3\\anaconda3\\lib\\site-packages (1.6.2)\n",
      "Requirement already satisfied: numpy in c:\\users\\kian3\\anaconda3\\lib\\site-packages (from xgboost) (1.26.4)\n",
      "Requirement already satisfied: scipy in c:\\users\\kian3\\anaconda3\\lib\\site-packages (from xgboost) (1.13.1)\n",
      "Note: you may need to restart the kernel to use updated packages.\n"
     ]
    },
    {
     "name": "stderr",
     "output_type": "stream",
     "text": [
      "WARNING: Ignoring invalid distribution ~arimo (c:\\Users\\kian3\\anaconda3\\Lib\\site-packages)\n",
      "WARNING: Ignoring invalid distribution ~arimo (c:\\Users\\kian3\\anaconda3\\Lib\\site-packages)\n",
      "WARNING: Ignoring invalid distribution ~arimo (c:\\Users\\kian3\\anaconda3\\Lib\\site-packages)\n"
     ]
    },
    {
     "name": "stdout",
     "output_type": "stream",
     "text": [
      "       policy_id  demand_pattern     C1     C2     C3     C4     C5    C6  \\\n",
      "0            0.0             0.0  210.0  270.0  229.0  248.0  267.0  53.0   \n",
      "1            1.0             0.0  212.0  275.0  235.0  258.0  271.0  54.0   \n",
      "2            2.0             0.0  230.0  294.0  247.0  267.0  267.0  56.0   \n",
      "3            3.0             0.0  220.0  284.0  232.0  267.0  286.0  55.0   \n",
      "4            4.0             0.0  221.0  272.0  250.0  256.0  280.0  55.0   \n",
      "...          ...             ...    ...    ...    ...    ...    ...   ...   \n",
      "99995      995.0            99.0  219.0  286.0  236.0  255.0  283.0  56.0   \n",
      "99996      996.0            99.0  226.0  270.0  243.0  248.0  291.0  57.0   \n",
      "99997      997.0            99.0  211.0  275.0  232.0  257.0  287.0  56.0   \n",
      "99998      998.0            99.0  230.0  275.0  247.0  256.0  289.0  53.0   \n",
      "99999      999.0            99.0  214.0  287.0  231.0  269.0  285.0  57.0   \n",
      "\n",
      "         C7    C8    C9   C10    C11   C12   C13   C14      cost  \n",
      "0      38.0  27.0  90.0  30.0  117.0  27.0  19.0  15.0  465.7775  \n",
      "1      40.0  28.0  92.0  32.0  125.0  27.0  19.0  15.0  459.8490  \n",
      "2      40.0  27.0  98.0  30.0  119.0  27.0  19.0  15.0  461.9000  \n",
      "3      40.0  28.0  96.0  30.0  124.0  28.0  19.0  15.0  516.5395  \n",
      "4      39.0  28.0  98.0  31.0  121.0  28.0  19.0  15.0  480.7025  \n",
      "...     ...   ...   ...   ...    ...   ...   ...   ...       ...  \n",
      "99995  39.0  28.0  92.0  30.0  121.0  28.0  19.0  15.0  482.2185  \n",
      "99996  40.0  28.0  96.0  30.0  126.0  28.0  19.0  15.0  499.0570  \n",
      "99997  39.0  28.0  97.0  30.0  122.0  28.0  19.0  15.0  489.8550  \n",
      "99998  40.0  27.0  92.0  30.0  118.0  27.0  19.0  15.0  509.5230  \n",
      "99999  38.0  27.0  93.0  30.0  121.0  28.0  19.0  15.0  479.1755  \n",
      "\n",
      "[99997 rows x 17 columns]\n",
      "Mean Squared Error (MSE): 20122.84074310791\n",
      "Mean Absolute Error (MAE): 115.72399019369357\n",
      "R-squared (R2): 0.002125315079004153\n",
      "Coefficients: [ 0.04920996  0.30716421  0.17276804  0.24689926  0.38427736 -2.78076986\n",
      " -4.18690249 -3.14411966 -0.44051679 -3.50825155  0.63843211 -2.46565719\n",
      "  0.          0.        ]\n",
      "Intercept: 705.467731149321\n",
      "XGBoost Mean Squared Error (MSE): 20563.57815236324\n",
      "XGBoost Mean Absolute Error (MAE): 116.91645294848634\n",
      "XGBoost R-squared (R2): -0.019730480979223586\n"
     ]
    },
    {
     "ename": "",
     "evalue": "",
     "output_type": "error",
     "traceback": [
      "\u001b[1;31mThe Kernel crashed while executing code in the current cell or a previous cell. \n",
      "\u001b[1;31mPlease review the code in the cell(s) to identify a possible cause of the failure. \n",
      "\u001b[1;31mClick <a href='https://aka.ms/vscodeJupyterKernelCrash'>here</a> for more info. \n",
      "\u001b[1;31mView Jupyter <a href='command:jupyter.viewOutput'>log</a> for further details."
     ]
    }
   ],
   "source": [
    "import pandas as pd\n",
    "from sklearn.model_selection import train_test_split\n",
    "from sklearn.linear_model import LinearRegression\n",
    "from sklearn.metrics import mean_squared_error, mean_absolute_error, r2_score\n",
    "# Ensure xgboost is installed\n",
    "%pip install xgboost\n",
    "import xgboost as xgb\n",
    "\n",
    "df =  pd.read_csv(r'C:\\Users\\kian3\\Consulting\\ORTEC\\data\\Basic_random= 1000,100.csv')\n",
    "df =  df.drop_duplicates(subset=['C1', 'C2', 'C3', 'C4', 'C5', 'C6', 'C7', 'C8', 'C9', 'C10', 'C11', 'C12', 'C13', 'C14', 'cost'])\n",
    "print(df)\n",
    "\n",
    "# Splitting the data into 80% training and 20% testing\n",
    "X = df[['C1', 'C2', 'C3', 'C4', 'C5', 'C6', 'C7', 'C8', 'C9', 'C10', 'C11', 'C12', 'C13', 'C14']]\n",
    "y = df['cost']\n",
    "X_train, X_test, y_train, y_test = train_test_split(X, y, test_size=0.2, random_state=42)\n",
    "\n",
    "# Performing multiple linear regression\n",
    "model = LinearRegression()\n",
    "model.fit(X_train, y_train)\n",
    "\n",
    "# Making predictions\n",
    "y_pred = model.predict(X_test)\n",
    "\n",
    "# Evaluating the model\n",
    "mse = mean_squared_error(y_test, y_pred)\n",
    "mae = mean_absolute_error(y_test, y_pred)\n",
    "r2 = r2_score(y_test, y_pred)\n",
    "\n",
    "print(\"Mean Squared Error (MSE):\", mse)\n",
    "print(\"Mean Absolute Error (MAE):\", mae)\n",
    "print(\"R-squared (R2):\", r2)\n",
    "\n",
    "# Displaying the coefficients of the model\n",
    "print(\"Coefficients:\", model.coef_)\n",
    "print(\"Intercept:\", model.intercept_)   \n",
    "\n",
    "# Training the XGBoost model\n",
    "xgb_model = xgb.XGBRegressor(objective='reg:squarederror', random_state=42)\n",
    "xgb_model.fit(X_train, y_train)\n",
    "\n",
    "# Making predictions\n",
    "y_pred_xgb = xgb_model.predict(X_test)\n",
    "\n",
    "# Evaluating the XGBoost model\n",
    "mse_xgb = mean_squared_error(y_test, y_pred_xgb)\n",
    "mae_xgb = mean_absolute_error(y_test, y_pred_xgb)\n",
    "r2_xgb = r2_score(y_test, y_pred_xgb)\n",
    "\n",
    "print(\"XGBoost Mean Squared Error (MSE):\", mse_xgb)\n",
    "print(\"XGBoost Mean Absolute Error (MAE):\", mae_xgb)\n",
    "print(\"XGBoost R-squared (R2):\", r2_xgb)"
   ]
  }
 ],
 "metadata": {
  "kernelspec": {
   "display_name": "base",
   "language": "python",
   "name": "python3"
  },
  "language_info": {
   "codemirror_mode": {
    "name": "ipython",
    "version": 3
   },
   "file_extension": ".py",
   "mimetype": "text/x-python",
   "name": "python",
   "nbconvert_exporter": "python",
   "pygments_lexer": "ipython3",
   "version": "3.12.7"
  }
 },
 "nbformat": 4,
 "nbformat_minor": 5
}
