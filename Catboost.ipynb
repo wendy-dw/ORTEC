{
 "cells": [
  {
   "cell_type": "code",
   "execution_count": null,
   "id": "3350b00d",
   "metadata": {},
   "outputs": [],
   "source": [
    "import numpy as np\n",
    "from catboost import CatBoostRegressor\n",
    "from sklearn.model_selection import GridSearchCV, train_test_split, randomized_search_cv\n",
    "from sklearn.metrics import mean_squared_error, mean_absolute_error\n",
    "\n",
    "df =  pd.read_csv(r'C:\\Users\\kian3\\Consulting\\ORTEC\\data\\Basic_random= 1000,100.csv') # Adjust the path once data has been generated with all policies\n",
    "df =  df.drop_duplicates(subset=['C1', 'C2', 'C3', 'C4', 'C5', 'C6', 'C7', 'C8', 'C9', 'C10', 'C11', 'C12', 'C13', 'C14', 'cost'])\n",
    "\n",
    "X = df[['C1', 'C2', 'C3', 'C4', 'C5', 'C6', 'C7', 'C8', 'C9', 'C10', 'C11', 'C12', 'C13', 'C14']]\n",
    "y = df['cost']\n",
    "X_train, X_test, y_train, y_test = train_test_split(X, y, test_size=0.2, random_state=42)\n",
    "\n",
    "param_grid = {\n",
    "    'depth': [4, 6, 8],                # Diepte van de bomen\n",
    "    'learning_rate': [0.01, 0.1, 0.3],  # Leersnelheid\n",
    "    'iterations': [50, 100, 200],       # Aantal bomen\n",
    "    'l2_leaf_reg': randint(2,30),       # Regularisatie (vergelijkbaar met min_samples_split)\n",
    "}\n",
    "\n",
    "# Ook hier kan je RandomizedSearchCV gebruiken voor paramertuning\n",
    "grid_search = GridSearchCV(\n",
    "    estimator=CatBoostRegressor(silent=True),\n",
    "    param_grid=param_grid,\n",
    "    n_iter=100,  # Aantal iteraties voor RandomizedSearchCV\n",
    "    cv=5,\n",
    "    scoring='neg_mean_squared_error',\n",
    "    n_jobs=-1 \n",
    ")\n",
    "\n",
    "grid_search.fit(X_train, y_train)\n",
    "\n",
    "best_cb = grid_search.best_estimator_\n",
    "best_cb.fit(X_train, y_train)\n",
    "\n",
    "y_pred = best_cb.predict(X_test)\n",
    "print(f\"Beste parameters: {grid_search.best_params_}\")\n",
    "\n",
    "mse = mean_squared_error(y_test, y_pred)\n",
    "mae = mean_absolute_error(y_test, y_pred)\n",
    "print(\"Mean Squared Error: \", mse)\n",
    "print(\"Mean Absolute Error: \", mae)"
   ]
  }
 ],
 "metadata": {
  "language_info": {
   "name": "python"
  }
 },
 "nbformat": 4,
 "nbformat_minor": 5
}
