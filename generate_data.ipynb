{
 "cells": [
  {
   "cell_type": "code",
   "execution_count": 6,
   "metadata": {},
   "outputs": [],
   "source": [
    "from src.evaluate import Evaluate\n",
    "from src.supply_chain_config import SupplyChainConfig\n",
    "from src.policy import MeanDemandPolicy, StaticBaseStockPolicyRandom, StaticBaseStockPolicyShortfall\n",
    "from src.dynamics import Dynamics\n",
    "\n",
    "import numpy as np\n",
    "import pandas as pd"
   ]
  },
  {
   "cell_type": "code",
   "execution_count": 49,
   "metadata": {},
   "outputs": [],
   "source": [
    "def create_deviation(deviations):\n",
    "    return [np.random.randint(0, deviation) for deviation in deviations]"
   ]
  },
  {
   "cell_type": "markdown",
   "metadata": {},
   "source": [
    "<div style=\"background-color: rgba(0, 176, 240, 1); color: rgba(255, 255, 255, 1); font-size: 24px; font-weight: bold; padding: 10px; border-radius: 15px;\">\n",
    "    Initialize network & a base strategy\n",
    "</div>"
   ]
  },
  {
   "cell_type": "code",
   "execution_count": 50,
   "metadata": {},
   "outputs": [],
   "source": [
    "# Create an instance of supply chain configuration\n",
    "supply_chain_config = SupplyChainConfig()\n",
    "dynamics = Dynamics(supply_chain_config)\n",
    "\n",
    "# Policy parameters\n",
    "hedging_base_stock_shortfall = 0.25\n",
    "hedging_base_stock_random = 0.25\n",
    "hedging_mean_demand_policy = 0.1\n",
    "\n",
    "# Creat a base policy\n",
    "base_stock_policy_random = StaticBaseStockPolicyRandom(supply_chain_config, hedging_base_stock_random)\n",
    "base_stock_levels = np.array(base_stock_policy_random.base_stock_levels)"
   ]
  },
  {
   "cell_type": "markdown",
   "metadata": {},
   "source": [
    "<div style=\"background-color: rgba(0, 176, 240, 1); color: rgba(255, 255, 255, 1); font-size: 24px; font-weight: bold; padding: 10px; border-radius: 15px;\">\n",
    "    Generate the data\n",
    "</div>"
   ]
  },
  {
   "cell_type": "code",
   "execution_count": 58,
   "metadata": {},
   "outputs": [
    {
     "ename": "KeyboardInterrupt",
     "evalue": "",
     "output_type": "error",
     "traceback": [
      "\u001b[1;31m---------------------------------------------------------------------------\u001b[0m",
      "\u001b[1;31mKeyboardInterrupt\u001b[0m                         Traceback (most recent call last)",
      "Cell \u001b[1;32mIn[58], line 14\u001b[0m\n\u001b[0;32m     12\u001b[0m data_parts \u001b[38;5;241m=\u001b[39m \u001b[38;5;28mlist\u001b[39m()\n\u001b[0;32m     13\u001b[0m \u001b[38;5;28;01mfor\u001b[39;00m demand_pattern \u001b[38;5;129;01min\u001b[39;00m \u001b[38;5;28mrange\u001b[39m(num_demand_patterns):\n\u001b[1;32m---> 14\u001b[0m     costs \u001b[38;5;241m=\u001b[39m evaluate\u001b[38;5;241m.\u001b[39mcompare_policies(policies)\n\u001b[0;32m     15\u001b[0m     data_parts\u001b[38;5;241m.\u001b[39mappend(np\u001b[38;5;241m.\u001b[39mconcatenate([np\u001b[38;5;241m.\u001b[39marange(\u001b[38;5;241m0\u001b[39m, num_policies)\u001b[38;5;241m.\u001b[39mreshape(\u001b[38;5;241m-\u001b[39m\u001b[38;5;241m1\u001b[39m, \u001b[38;5;241m1\u001b[39m),\n\u001b[0;32m     16\u001b[0m                                                 np\u001b[38;5;241m.\u001b[39mones((num_policies, \u001b[38;5;241m1\u001b[39m)) \u001b[38;5;241m*\u001b[39m demand_pattern, \n\u001b[0;32m     17\u001b[0m                                                 np\u001b[38;5;241m.\u001b[39marray([policy\u001b[38;5;241m.\u001b[39mbase_stock_levels \u001b[38;5;28;01mfor\u001b[39;00m policy \u001b[38;5;129;01min\u001b[39;00m policies]), \n\u001b[0;32m     18\u001b[0m                                                 np\u001b[38;5;241m.\u001b[39marray(costs)\u001b[38;5;241m.\u001b[39mreshape(\u001b[38;5;241m-\u001b[39m\u001b[38;5;241m1\u001b[39m, \u001b[38;5;241m1\u001b[39m)], axis \u001b[38;5;241m=\u001b[39m \u001b[38;5;241m1\u001b[39m))\n\u001b[0;32m     20\u001b[0m df \u001b[38;5;241m=\u001b[39m pd\u001b[38;5;241m.\u001b[39mDataFrame(np\u001b[38;5;241m.\u001b[39mconcatenate(data_parts, axis \u001b[38;5;241m=\u001b[39m \u001b[38;5;241m0\u001b[39m), columns \u001b[38;5;241m=\u001b[39m [\u001b[38;5;124m'\u001b[39m\u001b[38;5;124mpolicy_id\u001b[39m\u001b[38;5;124m'\u001b[39m, \u001b[38;5;124m'\u001b[39m\u001b[38;5;124mdemand_pattern\u001b[39m\u001b[38;5;124m'\u001b[39m] \u001b[38;5;241m+\u001b[39m [\u001b[38;5;124mf\u001b[39m\u001b[38;5;124m\"\u001b[39m\u001b[38;5;124mC\u001b[39m\u001b[38;5;132;01m{\u001b[39;00mi\u001b[38;5;241m+\u001b[39m\u001b[38;5;241m1\u001b[39m\u001b[38;5;132;01m}\u001b[39;00m\u001b[38;5;124m\"\u001b[39m \u001b[38;5;28;01mfor\u001b[39;00m i \u001b[38;5;129;01min\u001b[39;00m \u001b[38;5;28mrange\u001b[39m(\u001b[38;5;28mlen\u001b[39m(base_stock_policy_random\u001b[38;5;241m.\u001b[39mbase_stock_levels))] \u001b[38;5;241m+\u001b[39m [\u001b[38;5;124m'\u001b[39m\u001b[38;5;124mcost\u001b[39m\u001b[38;5;124m'\u001b[39m])\n",
      "File \u001b[1;32mc:\\Users\\thellema\\ASML\\ORTEC - ASML IBP - Rampflex (1)\\08 account development\\inventory-planning-challenge-ASML-main\\inventory-planning-challenge-ASML-main\\src\\evaluate.py:40\u001b[0m, in \u001b[0;36mEvaluate.compare_policies\u001b[1;34m(self, policies)\u001b[0m\n\u001b[0;32m     38\u001b[0m         events\u001b[38;5;241m.\u001b[39mappend(\u001b[38;5;28mself\u001b[39m\u001b[38;5;241m.\u001b[39mdynamics\u001b[38;5;241m.\u001b[39mget_demand(state))\n\u001b[0;32m     39\u001b[0m     action \u001b[38;5;241m=\u001b[39m policy\u001b[38;5;241m.\u001b[39mset_action(state)\n\u001b[1;32m---> 40\u001b[0m     state, cost \u001b[38;5;241m=\u001b[39m \u001b[38;5;28mself\u001b[39m\u001b[38;5;241m.\u001b[39mdynamics\u001b[38;5;241m.\u001b[39mtransition_dynamics(state, action, events[j])\n\u001b[0;32m     41\u001b[0m     total_costs \u001b[38;5;241m+\u001b[39m\u001b[38;5;241m=\u001b[39m cost\n\u001b[0;32m     43\u001b[0m avg_costs \u001b[38;5;241m=\u001b[39m total_costs \u001b[38;5;241m/\u001b[39m \u001b[38;5;28mself\u001b[39m\u001b[38;5;241m.\u001b[39mperiods_per_trajectory\n",
      "File \u001b[1;32mc:\\Users\\thellema\\ASML\\ORTEC - ASML IBP - Rampflex (1)\\08 account development\\inventory-planning-challenge-ASML-main\\inventory-planning-challenge-ASML-main\\src\\dynamics.py:23\u001b[0m, in \u001b[0;36mDynamics.transition_dynamics\u001b[1;34m(self, state, action, event)\u001b[0m\n\u001b[0;32m     20\u001b[0m \u001b[38;5;66;03m# Satisfy demand, if possible\u001b[39;00m\n\u001b[0;32m     21\u001b[0m \u001b[38;5;66;03m# If event is given as input, use that as demand\u001b[39;00m\n\u001b[0;32m     22\u001b[0m \u001b[38;5;28;01mif\u001b[39;00m event:\n\u001b[1;32m---> 23\u001b[0m     \u001b[38;5;28mself\u001b[39m\u001b[38;5;241m.\u001b[39mupdate_state_with_demand(state, event)\n\u001b[0;32m     24\u001b[0m \u001b[38;5;66;03m# Otherwise, generate demand and satisfy, if possible\u001b[39;00m\n\u001b[0;32m     25\u001b[0m \u001b[38;5;28;01melse\u001b[39;00m:\n\u001b[0;32m     26\u001b[0m     demand \u001b[38;5;241m=\u001b[39m \u001b[38;5;28mself\u001b[39m\u001b[38;5;241m.\u001b[39mget_demand(state)\n",
      "File \u001b[1;32mc:\\Users\\thellema\\ASML\\ORTEC - ASML IBP - Rampflex (1)\\08 account development\\inventory-planning-challenge-ASML-main\\inventory-planning-challenge-ASML-main\\src\\dynamics.py:54\u001b[0m, in \u001b[0;36mDynamics.update_state_with_demand\u001b[1;34m(self, state, demand)\u001b[0m\n\u001b[0;32m     51\u001b[0m     state\u001b[38;5;241m.\u001b[39mhistory_demand_per_product[i]\u001b[38;5;241m.\u001b[39mappend(demand[i])\n\u001b[0;32m     53\u001b[0m \u001b[38;5;66;03m# Update aggregate demand history\u001b[39;00m\n\u001b[1;32m---> 54\u001b[0m state\u001b[38;5;241m.\u001b[39maggregate_demand_model_history \u001b[38;5;241m=\u001b[39m np\u001b[38;5;241m.\u001b[39mappend(state\u001b[38;5;241m.\u001b[39maggregate_demand_model_history, demand[\u001b[38;5;241m-\u001b[39m\u001b[38;5;241m1\u001b[39m])\n",
      "File \u001b[1;32mc:\\Users\\thellema\\AppData\\Local\\anaconda3\\Lib\\site-packages\\numpy\\lib\\function_base.py:5618\u001b[0m, in \u001b[0;36mappend\u001b[1;34m(arr, values, axis)\u001b[0m\n\u001b[0;32m   5616\u001b[0m     values \u001b[38;5;241m=\u001b[39m ravel(values)\n\u001b[0;32m   5617\u001b[0m     axis \u001b[38;5;241m=\u001b[39m arr\u001b[38;5;241m.\u001b[39mndim\u001b[38;5;241m-\u001b[39m\u001b[38;5;241m1\u001b[39m\n\u001b[1;32m-> 5618\u001b[0m \u001b[38;5;28;01mreturn\u001b[39;00m concatenate((arr, values), axis\u001b[38;5;241m=\u001b[39maxis)\n",
      "\u001b[1;31mKeyboardInterrupt\u001b[0m: "
     ]
    }
   ],
   "source": [
    "# Parameters for testing\n",
    "num_policies = 1000\n",
    "num_demand_patterns = 100\n",
    "num_trajectories = 1\n",
    "periods_per_trajectory = 200\n",
    "evaluate = Evaluate(supply_chain_config, dynamics, num_trajectories, periods_per_trajectory)\n",
    "\n",
    "policies = [base_stock_policy_random]\n",
    "for n in range(num_policies - 1):\n",
    "    policies.append(StaticBaseStockPolicyRandom(supply_chain_config, hedging_base_stock_random, deviations = create_deviation(base_stock_levels // 10)))\n",
    "\n",
    "data_parts = list()\n",
    "for demand_pattern in range(num_demand_patterns):\n",
    "    costs = evaluate.compare_policies(policies)\n",
    "    data_parts.append(np.concatenate([np.arange(0, num_policies).reshape(-1, 1),\n",
    "                                                np.ones((num_policies, 1)) * demand_pattern, \n",
    "                                                np.array([policy.base_stock_levels for policy in policies]), \n",
    "                                                np.array(costs).reshape(-1, 1)], axis = 1))\n",
    "\n",
    "df = pd.DataFrame(np.concatenate(data_parts, axis = 0), columns = ['policy_id', 'demand_pattern'] + [f\"C{i+1}\" for i in range(len(base_stock_policy_random.base_stock_levels))] + ['cost'])\n",
    "df.to_csv('data/generated_data.csv', index = False)"
   ]
  }
 ],
 "metadata": {
  "kernelspec": {
   "display_name": "base",
   "language": "python",
   "name": "python3"
  },
  "language_info": {
   "codemirror_mode": {
    "name": "ipython",
    "version": 3
   },
   "file_extension": ".py",
   "mimetype": "text/x-python",
   "name": "python",
   "nbconvert_exporter": "python",
   "pygments_lexer": "ipython3",
   "version": "3.12.7"
  }
 },
 "nbformat": 4,
 "nbformat_minor": 2
}
